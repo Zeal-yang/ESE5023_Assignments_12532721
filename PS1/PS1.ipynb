{
 "cells": [
  {
   "cell_type": "code",
   "execution_count": 5,
   "id": "a4d59fcb",
   "metadata": {},
   "outputs": [
    {
     "name": "stdout",
     "output_type": "stream",
     "text": [
      "empty\n"
     ]
    }
   ],
   "source": [
    "def Print_values(a, b, c):\n",
    "    # 根据流程图的逻辑结构\n",
    "    if a > b:\n",
    "        if b > c:\n",
    "            # 输出 [a, b, c]\n",
    "            result = a + b - 10 * c\n",
    "        else:\n",
    "            if a > c:\n",
    "                # 输出 [a, c, b]\n",
    "                result = a + c - 10 * b\n",
    "            else:\n",
    "                # 输出 [c, a, b]\n",
    "                result = c + a - 10 * b\n",
    "    else:\n",
    "        if b > c:\n",
    "            result = \"empty\"\n",
    "        else:\n",
    "            # 输出 [c, b, a]\n",
    "            result = c + b - 10 * a\n",
    "\n",
    "    print(result)\n",
    "    \n",
    "Print_values(5, 15, 10)\n"
   ]
  },
  {
   "cell_type": "code",
   "execution_count": 3,
   "id": "bc8fb685",
   "metadata": {},
   "outputs": [
    {
     "name": "stdout",
     "output_type": "stream",
     "text": [
      "F(1) = 1\n",
      "F(3) = 7\n",
      "F(5) = 15\n",
      "F(10) = 33\n",
      "F(20) = 61\n"
     ]
    }
   ],
   "source": [
    "import math\n",
    "\n",
    "def F(x):\n",
    "    if x == 1:\n",
    "        return 1\n",
    "    else:\n",
    "        return F(math.ceil(x / 3)) + 2 * x\n",
    "\n",
    "def compute_F_list(lst):\n",
    "    result = []\n",
    "    for x in lst:\n",
    "        result.append(F(x))\n",
    "    return result\n",
    "\n",
    "numbers = [1, 3, 5, 10, 20]\n",
    "results = compute_F_list(numbers)\n",
    "\n",
    "for n, r in zip(numbers, results):\n",
    "    print(f\"F({n}) = {r}\")"
   ]
  },
  {
   "cell_type": "code",
   "execution_count": 4,
   "id": "6f5a173f",
   "metadata": {},
   "outputs": [
    {
     "name": "stdout",
     "output_type": "stream",
     "text": [
      "Number_of_ways = [1, 10, 55, 220, 715, 2002, 4995, 11340, 23760, 46420, 85228, 147940, 243925, 383470, 576565, 831204, 1151370, 1535040, 1972630, 2446300, 2930455, 3393610, 3801535, 4121260, 4325310, 4395456, 4325310, 4121260, 3801535, 3393610, 2930455, 2446300, 1972630, 1535040, 1151370, 831204, 576565, 383470, 243925, 147940, 85228, 46420, 23760, 11340, 4995, 2002, 715, 220, 55, 10, 1]\n",
      "x with maximum number of ways = 35\n",
      "Maximum number of ways = 4395456\n"
     ]
    }
   ],
   "source": [
    "def Find_number_of_ways(x, n=10):\n",
    "    # 创建二维 DP 表，dp[i][j] 表示用 i 个骰子得到和 j 的方法数\n",
    "    dp = [[0] * (x + 1) for _ in range(n + 1)]\n",
    "    \n",
    "    # 初始化：一个骰子时，和为 1~6 的方法都是 1\n",
    "    for j in range(1, 7):\n",
    "        if j <= x:\n",
    "            dp[1][j] = 1\n",
    "\n",
    "    # 填表\n",
    "    for i in range(2, n + 1):  # 从第2个骰子到第n个\n",
    "        for j in range(i, min(6 * i, x) + 1):\n",
    "            dp[i][j] = sum(dp[i - 1][j - k] for k in range(1, 7) if j - k >= 0)\n",
    "    \n",
    "    return dp[n][x]\n",
    "\n",
    "Number_of_ways = [Find_number_of_ways(x) for x in range(10, 61)]\n",
    "\n",
    "max_ways = max(Number_of_ways)\n",
    "x_with_max_ways = 10 + Number_of_ways.index(max_ways)\n",
    "\n",
    "print(\"Number_of_ways =\", Number_of_ways)\n",
    "print(\"x with maximum number of ways =\", x_with_max_ways)\n",
    "print(\"Maximum number of ways =\", max_ways)\n"
   ]
  },
  {
   "cell_type": "code",
   "execution_count": 15,
   "id": "3f11eb07",
   "metadata": {},
   "outputs": [
    {
     "data": {
      "image/png": "[encoded data removed]",
      "text/plain": [
       "<Figure size 1000x600 with 1 Axes>"
      ]
     },
     "metadata": {},
     "output_type": "display_data"
    }
   ],
   "source": [
    "import random\n",
    "import math\n",
    "import matplotlib.pyplot as plt\n",
    "\n",
    "# 4.1: 生成随机整数数组\n",
    "def Random_integer(N):\n",
    "    return [random.randint(0, 10) for _ in range(N)]\n",
    "\n",
    "# 4.2: 高效计算所有子集平均值之和\n",
    "def Sum_averages(arr):\n",
    "    N = len(arr)\n",
    "    total_sum = 0\n",
    "    for ai in arr:\n",
    "        contribution = 0\n",
    "        for k in range(1, N+1):\n",
    "            contribution += math.comb(N-1, k-1) / k\n",
    "        total_sum += ai * contribution\n",
    "    return total_sum\n",
    "\n",
    "# 4.3: N 从 1 到 100，计算 Sum_averages，并绘图\n",
    "Total_sum_averages = []\n",
    "\n",
    "for N in range(1, 101):\n",
    "    arr = Random_integer(N)\n",
    "    total = Sum_averages(arr)\n",
    "    Total_sum_averages.append(total)\n",
    "\n",
    "# 绘制结果\n",
    "plt.figure(figsize=(10,6))\n",
    "plt.plot(range(1, 101), Total_sum_averages, marker='o', markersize=3)\n",
    "plt.title(\"Sum of averages of all subsets (N=1 to 100)\")\n",
    "plt.xlabel(\"N\")\n",
    "plt.ylabel(\"Sum of averages\")\n",
    "plt.grid(True)\n",
    "plt.show()\n"
   ]
  },
  {
   "cell_type": "code",
   "execution_count": null,
   "id": "4299efe1",
   "metadata": {},
   "outputs": [
    {
     "name": "stdout",
     "output_type": "stream",
     "text": [
      "Mean total number of paths over 1000 runs: 0.423\n"
     ]
    }
   ],
   "source": [
    "import random\n",
    "import numpy as np\n",
    "\n",
    "# 5.1 创建矩阵函数\n",
    "def create_matrix(N, M):\n",
    "    #\"\"\"Create a N x M matrix with top-left and bottom-right corners as 1, rest randomly 0 or 1.\"\"\"\n",
    "    matrix = np.random.randint(0, 2, size=(N, M))\n",
    "    matrix[0, 0] = 1\n",
    "    matrix[N-1, M-1] = 1\n",
    "    return matrix\n",
    "\n",
    "# 5.2 统计路径函数\n",
    "def Count_path(matrix):\n",
    "    #\"\"\"Count total number of paths from top-left to bottom-right with only right or down moves.\"\"\"\n",
    "    N, M = matrix.shape\n",
    "    # dp[i][j] 表示到达 (i, j) 的路径数\n",
    "    dp = np.zeros((N, M), dtype=int)\n",
    "    \n",
    "    # 初始化起点\n",
    "    if matrix[0, 0] == 1:\n",
    "        dp[0, 0] = 1\n",
    "    \n",
    "    # 填充第一列\n",
    "    for i in range(1, N):\n",
    "        if matrix[i, 0] == 1:\n",
    "            dp[i, 0] = dp[i-1, 0]\n",
    "    \n",
    "    # 填充第一行\n",
    "    for j in range(1, M):\n",
    "        if matrix[0, j] == 1:\n",
    "            dp[0, j] = dp[0, j-1]\n",
    "    \n",
    "    # 填充其余位置\n",
    "    for i in range(1, N):\n",
    "        for j in range(1, M):\n",
    "            if matrix[i, j] == 1:\n",
    "                dp[i, j] = dp[i-1, j] + dp[i, j-1]\n",
    "    \n",
    "    return dp[N-1, M-1]\n",
    "\n",
    "# 5.3 运行实验并求平均路径数\n",
    "def experiment(N, M, runs=1000):\n",
    "    total_paths = 0 \n",
    "    for _ in range(runs):\n",
    "        mat = create_matrix(N, M)\n",
    "        total_paths += Count_path(mat)\n",
    "    mean_paths = total_paths / runs\n",
    "    return mean_paths\n",
    "\n",
    "# 设置 N = 10, M = 8，运行 1000 次实验\n",
    "N = 10\n",
    "M = 8\n",
    "mean_total_paths = experiment(N, M, 1000)\n",
    "print(f\"Mean total number of paths over 1000 runs: {mean_total_paths}\")\n"
   ]
  }
 ],
 "metadata": {
  "kernelspec": {
   "display_name": "base",
   "language": "python",
   "name": "python3"
  },
  "language_info": {
   "codemirror_mode": {
    "name": "ipython",
    "version": 3
   },
   "file_extension": ".py",
   "mimetype": "text/x-python",
   "name": "python",
   "nbconvert_exporter": "python",
   "pygments_lexer": "ipython3",
   "version": "3.13.5"
  }
 },
 "nbformat": 4,
 "nbformat_minor": 5
}
